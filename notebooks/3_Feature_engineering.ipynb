{
 "cells": [
  {
   "cell_type": "markdown",
   "metadata": {},
   "source": [
    "# Start Feature engineering process"
   ]
  },
  {
   "cell_type": "markdown",
   "metadata": {},
   "source": [
    "Import needed libraries"
   ]
  },
  {
   "cell_type": "code",
   "execution_count": 4,
   "metadata": {},
   "outputs": [],
   "source": [
    "import pandas as pd\n",
    "import matplotlib.pyplot as plt"
   ]
  },
  {
   "cell_type": "markdown",
   "metadata": {},
   "source": [
    "Import extracted cleaned files"
   ]
  },
  {
   "cell_type": "code",
   "execution_count": 5,
   "metadata": {},
   "outputs": [
    {
     "data": {
      "text/html": [
       "<div>\n",
       "<style scoped>\n",
       "    .dataframe tbody tr th:only-of-type {\n",
       "        vertical-align: middle;\n",
       "    }\n",
       "\n",
       "    .dataframe tbody tr th {\n",
       "        vertical-align: top;\n",
       "    }\n",
       "\n",
       "    .dataframe thead th {\n",
       "        text-align: right;\n",
       "    }\n",
       "</style>\n",
       "<table border=\"1\" class=\"dataframe\">\n",
       "  <thead>\n",
       "    <tr style=\"text-align: right;\">\n",
       "      <th></th>\n",
       "      <th>age</th>\n",
       "      <th>sex</th>\n",
       "      <th>cp</th>\n",
       "      <th>trestbps</th>\n",
       "      <th>chol</th>\n",
       "      <th>fbs</th>\n",
       "      <th>restecg</th>\n",
       "      <th>thalach</th>\n",
       "      <th>exang</th>\n",
       "      <th>oldpeak</th>\n",
       "      <th>slope</th>\n",
       "      <th>ca</th>\n",
       "      <th>thal</th>\n",
       "      <th>num</th>\n",
       "    </tr>\n",
       "  </thead>\n",
       "  <tbody>\n",
       "    <tr>\n",
       "      <th>0</th>\n",
       "      <td>63</td>\n",
       "      <td>1</td>\n",
       "      <td>1</td>\n",
       "      <td>145</td>\n",
       "      <td>233</td>\n",
       "      <td>1</td>\n",
       "      <td>2</td>\n",
       "      <td>150</td>\n",
       "      <td>0</td>\n",
       "      <td>2.3</td>\n",
       "      <td>3</td>\n",
       "      <td>0.0</td>\n",
       "      <td>6.0</td>\n",
       "      <td>0</td>\n",
       "    </tr>\n",
       "  </tbody>\n",
       "</table>\n",
       "</div>"
      ],
      "text/plain": [
       "   age  sex  cp  trestbps  chol  fbs  restecg  thalach  exang  oldpeak  slope  \\\n",
       "0   63    1   1       145   233    1        2      150      0      2.3      3   \n",
       "\n",
       "    ca  thal  num  \n",
       "0  0.0   6.0    0  "
      ]
     },
     "execution_count": 5,
     "metadata": {},
     "output_type": "execute_result"
    }
   ],
   "source": [
    "path = '../data/clean/clean_medical_records.csv'\n",
    "clean_patient_records = pd.read_csv(path)\n",
    "clean_patient_records.head(1)"
   ]
  },
  {
   "cell_type": "code",
   "execution_count": 7,
   "metadata": {},
   "outputs": [
    {
     "name": "stdout",
     "output_type": "stream",
     "text": [
      "==========\n",
      "Información de la la columna age\n",
      "count    297.000000\n",
      "mean      54.542088\n",
      "std        9.049736\n",
      "min       29.000000\n",
      "25%       48.000000\n",
      "50%       56.000000\n",
      "75%       61.000000\n",
      "max       77.000000\n",
      "Name: age, dtype: float64\n",
      "==========\n",
      "==========\n",
      "Información de la la columna sex\n",
      "count    297.000000\n",
      "mean       0.676768\n",
      "std        0.468500\n",
      "min        0.000000\n",
      "25%        0.000000\n",
      "50%        1.000000\n",
      "75%        1.000000\n",
      "max        1.000000\n",
      "Name: sex, dtype: float64\n",
      "==========\n",
      "==========\n",
      "Información de la la columna cp\n",
      "count    297.000000\n",
      "mean       3.158249\n",
      "std        0.964859\n",
      "min        1.000000\n",
      "25%        3.000000\n",
      "50%        3.000000\n",
      "75%        4.000000\n",
      "max        4.000000\n",
      "Name: cp, dtype: float64\n",
      "==========\n",
      "==========\n",
      "Información de la la columna trestbps\n",
      "count    297.000000\n",
      "mean     131.693603\n",
      "std       17.762806\n",
      "min       94.000000\n",
      "25%      120.000000\n",
      "50%      130.000000\n",
      "75%      140.000000\n",
      "max      200.000000\n",
      "Name: trestbps, dtype: float64\n",
      "==========\n",
      "==========\n",
      "Información de la la columna chol\n",
      "count    297.000000\n",
      "mean     247.350168\n",
      "std       51.997583\n",
      "min      126.000000\n",
      "25%      211.000000\n",
      "50%      243.000000\n",
      "75%      276.000000\n",
      "max      564.000000\n",
      "Name: chol, dtype: float64\n",
      "==========\n",
      "==========\n",
      "Información de la la columna fbs\n",
      "count    297.000000\n",
      "mean       0.144781\n",
      "std        0.352474\n",
      "min        0.000000\n",
      "25%        0.000000\n",
      "50%        0.000000\n",
      "75%        0.000000\n",
      "max        1.000000\n",
      "Name: fbs, dtype: float64\n",
      "==========\n",
      "==========\n",
      "Información de la la columna restecg\n",
      "count    297.000000\n",
      "mean       0.996633\n",
      "std        0.994914\n",
      "min        0.000000\n",
      "25%        0.000000\n",
      "50%        1.000000\n",
      "75%        2.000000\n",
      "max        2.000000\n",
      "Name: restecg, dtype: float64\n",
      "==========\n",
      "==========\n",
      "Información de la la columna thalach\n",
      "count    297.000000\n",
      "mean     149.599327\n",
      "std       22.941562\n",
      "min       71.000000\n",
      "25%      133.000000\n",
      "50%      153.000000\n",
      "75%      166.000000\n",
      "max      202.000000\n",
      "Name: thalach, dtype: float64\n",
      "==========\n",
      "==========\n",
      "Información de la la columna exang\n",
      "count    297.000000\n",
      "mean       0.326599\n",
      "std        0.469761\n",
      "min        0.000000\n",
      "25%        0.000000\n",
      "50%        0.000000\n",
      "75%        1.000000\n",
      "max        1.000000\n",
      "Name: exang, dtype: float64\n",
      "==========\n",
      "==========\n",
      "Información de la la columna oldpeak\n",
      "count    297.000000\n",
      "mean       1.055556\n",
      "std        1.166123\n",
      "min        0.000000\n",
      "25%        0.000000\n",
      "50%        0.800000\n",
      "75%        1.600000\n",
      "max        6.200000\n",
      "Name: oldpeak, dtype: float64\n",
      "==========\n",
      "==========\n",
      "Información de la la columna slope\n",
      "count    297.000000\n",
      "mean       1.602694\n",
      "std        0.618187\n",
      "min        1.000000\n",
      "25%        1.000000\n",
      "50%        2.000000\n",
      "75%        2.000000\n",
      "max        3.000000\n",
      "Name: slope, dtype: float64\n",
      "==========\n",
      "==========\n",
      "Información de la la columna ca\n",
      "count    297.000000\n",
      "mean       0.676768\n",
      "std        0.938965\n",
      "min        0.000000\n",
      "25%        0.000000\n",
      "50%        0.000000\n",
      "75%        1.000000\n",
      "max        3.000000\n",
      "Name: ca, dtype: float64\n",
      "==========\n",
      "==========\n",
      "Información de la la columna thal\n",
      "count    297.000000\n",
      "mean       4.730640\n",
      "std        1.938629\n",
      "min        3.000000\n",
      "25%        3.000000\n",
      "50%        3.000000\n",
      "75%        7.000000\n",
      "max        7.000000\n",
      "Name: thal, dtype: float64\n",
      "==========\n",
      "==========\n",
      "Información de la la columna num\n",
      "count    297.000000\n",
      "mean       0.946128\n",
      "std        1.234551\n",
      "min        0.000000\n",
      "25%        0.000000\n",
      "50%        0.000000\n",
      "75%        2.000000\n",
      "max        4.000000\n",
      "Name: num, dtype: float64\n",
      "==========\n"
     ]
    }
   ],
   "source": [
    "# Identify statistical descriptions of each column in dataset\n",
    "from helpers import basic_eda as beda\n",
    "beda.statistical_information(clean_patient_records)"
   ]
  },
  {
   "cell_type": "code",
   "execution_count": 8,
   "metadata": {},
   "outputs": [
    {
     "data": {
      "text/html": [
       "<div>\n",
       "<style scoped>\n",
       "    .dataframe tbody tr th:only-of-type {\n",
       "        vertical-align: middle;\n",
       "    }\n",
       "\n",
       "    .dataframe tbody tr th {\n",
       "        vertical-align: top;\n",
       "    }\n",
       "\n",
       "    .dataframe thead th {\n",
       "        text-align: right;\n",
       "    }\n",
       "</style>\n",
       "<table border=\"1\" class=\"dataframe\">\n",
       "  <thead>\n",
       "    <tr style=\"text-align: right;\">\n",
       "      <th></th>\n",
       "      <th>age</th>\n",
       "      <th>sex</th>\n",
       "      <th>chest_pain_type</th>\n",
       "      <th>resting_blood_pressure</th>\n",
       "      <th>serum_cholesterol</th>\n",
       "      <th>fasting_blood_sugar_g_120</th>\n",
       "      <th>resting_egc_results</th>\n",
       "      <th>maximum_heart_rate</th>\n",
       "      <th>exersize_induced_angina</th>\n",
       "      <th>ST_depression</th>\n",
       "      <th>slope_of_peak_exercise_st_segment</th>\n",
       "      <th>major_vessels</th>\n",
       "      <th>Thalassemia</th>\n",
       "      <th>target</th>\n",
       "    </tr>\n",
       "  </thead>\n",
       "  <tbody>\n",
       "    <tr>\n",
       "      <th>0</th>\n",
       "      <td>63</td>\n",
       "      <td>1</td>\n",
       "      <td>1</td>\n",
       "      <td>145</td>\n",
       "      <td>233</td>\n",
       "      <td>1</td>\n",
       "      <td>2</td>\n",
       "      <td>150</td>\n",
       "      <td>0</td>\n",
       "      <td>2.3</td>\n",
       "      <td>3</td>\n",
       "      <td>0.0</td>\n",
       "      <td>6.0</td>\n",
       "      <td>0</td>\n",
       "    </tr>\n",
       "  </tbody>\n",
       "</table>\n",
       "</div>"
      ],
      "text/plain": [
       "   age  sex  chest_pain_type  resting_blood_pressure  serum_cholesterol  \\\n",
       "0   63    1                1                     145                233   \n",
       "\n",
       "   fasting_blood_sugar_g_120  resting_egc_results  maximum_heart_rate  \\\n",
       "0                          1                    2                 150   \n",
       "\n",
       "   exersize_induced_angina  ST_depression  slope_of_peak_exercise_st_segment  \\\n",
       "0                        0            2.3                                  3   \n",
       "\n",
       "   major_vessels  Thalassemia  target  \n",
       "0            0.0          6.0       0  "
      ]
     },
     "execution_count": 8,
     "metadata": {},
     "output_type": "execute_result"
    }
   ],
   "source": [
    "# standarize column names\n",
    "actual_columns = clean_patient_records.columns\n",
    "list_names = ['age', 'sex', 'chest_pain_type', 'resting_blood_pressure',\n",
    "              'serum_cholesterol', 'fasting_blood_sugar_g_120',\n",
    "              'resting_egc_results', 'maximum_heart_rate', 'exersize_induced_angina', 'ST_depression', 'slope_of_peak_exercise_st_segment','major_vessels', 'Thalassemia', 'target']\n",
    "# create list of dicitonaries\n",
    "dict = {key: value for key, value in zip(actual_columns, list_names)}\n",
    "# rename columns\n",
    "renamed_records = clean_patient_records.rename(columns=dict)\n",
    "renamed_records.head(1)"
   ]
  },
  {
   "cell_type": "code",
   "execution_count": 9,
   "metadata": {},
   "outputs": [
    {
     "data": {
      "text/plain": [
       "Index(['age', 'sex', 'chest_pain_type', 'resting_blood_pressure',\n",
       "       'serum_cholesterol', 'fasting_blood_sugar_g_120', 'resting_egc_results',\n",
       "       'maximum_heart_rate', 'exersize_induced_angina', 'st_depression',\n",
       "       'slope_of_peak_exercise_st_segment', 'major_vessels', 'thalassemia',\n",
       "       'target'],\n",
       "      dtype='object')"
      ]
     },
     "execution_count": 9,
     "metadata": {},
     "output_type": "execute_result"
    }
   ],
   "source": [
    "# lowercase all column names\n",
    "renamed_records.columns = renamed_records.columns.str.lower()\n",
    "renamed_records.columns"
   ]
  },
  {
   "cell_type": "markdown",
   "metadata": {},
   "source": [
    "Note that some variables, like thalassemia are categorical, but in order for the model to undertnad its meaning the numerical clasiffications mus be kept, and since in some cases there is more categories and the categorical variables that have only two states (1 or 0) there is no need to change any other variables."
   ]
  },
  {
   "cell_type": "code",
   "execution_count": 10,
   "metadata": {},
   "outputs": [],
   "source": [
    "# saved modified dataset in curated folder.\n",
    "renamed_records.to_csv('../data/curated/curated_medical_records.csv', index=False)"
   ]
  },
  {
   "cell_type": "code",
   "execution_count": 11,
   "metadata": {},
   "outputs": [
    {
     "data": {
      "text/plain": [
       "(array([214.,  83.]), array([0., 2., 4.]), <BarContainer object of 2 artists>)"
      ]
     },
     "execution_count": 11,
     "metadata": {},
     "output_type": "execute_result"
    },
    {
     "data": {
      "image/png": "[encoded data removed]",
      "text/plain": [
       "<Figure size 1000x500 with 1 Axes>"
      ]
     },
     "metadata": {},
     "output_type": "display_data"
    }
   ],
   "source": [
    "# Distribution of target variable\n",
    "plt.figure(figsize=(10, 5))\n",
    "plt.title('Distribution of Target Variable')\n",
    "plt.xlabel('Target Variable')\n",
    "plt.ylabel('Count')\n",
    "plt.hist(renamed_records['target'], bins=2, color='blue', alpha=0.7)\n"
   ]
  },
  {
   "cell_type": "code",
   "execution_count": 12,
   "metadata": {},
   "outputs": [
    {
     "data": {
      "text/plain": [
       "target\n",
       "0    160\n",
       "1     54\n",
       "2     35\n",
       "3     35\n",
       "4     13\n",
       "Name: count, dtype: int64"
      ]
     },
     "execution_count": 12,
     "metadata": {},
     "output_type": "execute_result"
    }
   ],
   "source": [
    "renamed_records['target'].value_counts()"
   ]
  },
  {
   "cell_type": "code",
   "execution_count": null,
   "metadata": {},
   "outputs": [
    {
     "data": {
      "text/plain": [
       "target\n",
       "0    160\n",
       "1     54\n",
       "2     35\n",
       "3     35\n",
       "4     13\n",
       "dtype: int64"
      ]
     },
     "execution_count": 13,
     "metadata": {},
     "output_type": "execute_result"
    }
   ],
   "source": []
  }
 ],
 "metadata": {
  "kernelspec": {
   "display_name": "heart_proyect",
   "language": "python",
   "name": "python3"
  },
  "language_info": {
   "codemirror_mode": {
    "name": "ipython",
    "version": 3
   },
   "file_extension": ".py",
   "mimetype": "text/x-python",
   "name": "python",
   "nbconvert_exporter": "python",
   "pygments_lexer": "ipython3",
   "version": "3.11.11"
  }
 },
 "nbformat": 4,
 "nbformat_minor": 2
}
