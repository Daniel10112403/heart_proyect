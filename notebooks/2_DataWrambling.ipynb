{
 "cells": [
  {
   "cell_type": "markdown",
   "metadata": {},
   "source": [
    "# Data Wrambling"
   ]
  },
  {
   "cell_type": "code",
   "execution_count": 3,
   "metadata": {},
   "outputs": [
    {
     "name": "stdout",
     "output_type": "stream",
     "text": [
      "Valores nulos antes del tratamiento:\n",
      "age         0\n",
      "sex         0\n",
      "cp          0\n",
      "trestbps    0\n",
      "chol        0\n",
      "fbs         0\n",
      "restecg     0\n",
      "thalach     0\n",
      "exang       0\n",
      "oldpeak     0\n",
      "slope       0\n",
      "ca          4\n",
      "thal        2\n",
      "num         0\n",
      "dtype: int64\n",
      "\n",
      "Después de la limpieza:\n",
      "age         0\n",
      "sex         0\n",
      "cp          0\n",
      "trestbps    0\n",
      "chol        0\n",
      "fbs         0\n",
      "restecg     0\n",
      "thalach     0\n",
      "exang       0\n",
      "oldpeak     0\n",
      "slope       0\n",
      "ca          0\n",
      "thal        0\n",
      "num         0\n",
      "dtype: int64\n",
      "Total de registros finales: 297\n",
      "\n",
      "Dataset limpio guardado como 'clean_medical_records.csv'\n"
     ]
    }
   ],
   "source": [
    "import pandas as pd\n",
    "\n",
    "# Cargar el dataset original\n",
    "df = pd.read_csv(\"../data/raw/raw_medical_records.csv\")\n",
    "df.columns = df.columns.str.lower()  # estandarizar nombres de columnas\n",
    "\n",
    "# Mostrar valores nulos por columna\n",
    "print(\"Valores nulos antes del tratamiento:\")\n",
    "print(df.isnull().sum())\n",
    "\n",
    "# Eliminar filas con valores nulos (en 'ca' y 'thal')\n",
    "df = df.dropna()\n",
    "\n",
    "# Verificar estado final del dataset\n",
    "print(\"\\nDespués de la limpieza:\")\n",
    "print(df.isnull().sum())\n",
    "print(f\"Total de registros finales: {df.shape[0]}\")\n",
    "\n",
    "# Guardar dataset limpio para la siguiente etapa\n",
    "df.to_csv(\"../data/clean/clean_medical_records.csv\", index=False)\n",
    "print(\"\\nDataset limpio guardado como 'clean_medical_records.csv'\")\n"
   ]
  }
 ],
 "metadata": {
  "kernelspec": {
   "display_name": "heart_proyect",
   "language": "python",
   "name": "python3"
  },
  "language_info": {
   "codemirror_mode": {
    "name": "ipython",
    "version": 3
   },
   "file_extension": ".py",
   "mimetype": "text/x-python",
   "name": "python",
   "nbconvert_exporter": "python",
   "pygments_lexer": "ipython3",
   "version": "3.11.11"
  }
 },
 "nbformat": 4,
 "nbformat_minor": 2
}
