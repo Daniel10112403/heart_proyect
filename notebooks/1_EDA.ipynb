{
 "cells": [
  {
   "cell_type": "markdown",
   "id": "293eba42",
   "metadata": {},
   "source": [
    "\n",
    "# EDA Visual – Gráficas y Correlaciones\n",
    "\n",
    "Esta sección muestra:\n",
    "- Histogramas de distribución\n",
    "- Boxplots para outliers\n",
    "- Matriz de correlación\n"
   ]
  },
  {
   "cell_type": "code",
   "execution_count": 7,
   "id": "3838ec63",
   "metadata": {},
   "outputs": [
    {
     "name": "stdout",
     "output_type": "stream",
     "text": [
      "Gráficas exportadas correctamente en la carpeta '../Report/IMG'\n"
     ]
    }
   ],
   "source": [
    "import os\n",
    "import pandas as pd\n",
    "import seaborn as sns\n",
    "import matplotlib.pyplot as plt\n",
    "\n",
    "# Load dataset (already cleaned)\n",
    "df = pd.read_csv(\"../data/raw/raw_medical_records.csv\")\n",
    "df.columns = df.columns.str.lower()\n",
    "\n",
    "# Create IMG folder if it doesn't exist\n",
    "img_dir = \"../Report/IMG\"\n",
    "os.makedirs(img_dir, exist_ok=True)\n",
    "\n",
    "# 1. Histogramas\n",
    "df.hist(bins=15, figsize=(15, 12))\n",
    "plt.suptitle(\"Distribución de las variables\")\n",
    "plt.tight_layout()\n",
    "plt.savefig(f\"{img_dir}/01_histogramas.png\")\n",
    "plt.close()\n",
    "\n",
    "# 2. Boxplots (excluye la variable objetivo)\n",
    "features_only = df.drop(columns=[\"num\"])\n",
    "plt.figure(figsize=(15, 10))\n",
    "features_only.boxplot(rot=90)\n",
    "plt.title(\"Boxplots para detección de outliers\")\n",
    "plt.tight_layout()\n",
    "plt.savefig(f\"{img_dir}/02_boxplots.png\")\n",
    "plt.close()\n",
    "\n",
    "# 3. Correlation Matrix\n",
    "plt.figure(figsize=(12, 8))\n",
    "sns.heatmap(df.corr(), annot=True, cmap='coolwarm')\n",
    "plt.title(\"Matriz de correlación\")\n",
    "plt.tight_layout()\n",
    "plt.savefig(f\"{img_dir}/03_matriz_correlacion.png\")\n",
    "plt.close()\n",
    "\n",
    "print(f\"Gráficas exportadas correctamente en la carpeta '{img_dir}'\")\n"
   ]
  },
  {
   "cell_type": "markdown",
   "id": "e8cb59af",
   "metadata": {},
   "source": [
    "# Conclusiones"
   ]
  },
  {
   "cell_type": "markdown",
   "id": "b41872af",
   "metadata": {},
   "source": [
    "- A partir de los histogramas se encuentra que las variables exang, fbs, y sex están altamente desbalanceadas - (mayoría de valores 0).\n",
    "- Se encontraron outliers en variables como chol, trestbps, y oldpeak, lo cual es clínicamente plausible pero debe validarse médicamente o con expertos.\n",
    "- La matriz de correlación muestra una correlación negativa entre thalach y exang (esperado: a mayor frecuencia cardíaca, menos probabilidad de angina inducida por ejercicio)."
   ]
  }
 ],
 "metadata": {
  "kernelspec": {
   "display_name": "heart_proyect",
   "language": "python",
   "name": "python3"
  },
  "language_info": {
   "codemirror_mode": {
    "name": "ipython",
    "version": 3
   },
   "file_extension": ".py",
   "mimetype": "text/x-python",
   "name": "python",
   "nbconvert_exporter": "python",
   "pygments_lexer": "ipython3",
   "version": "3.11.11"
  }
 },
 "nbformat": 4,
 "nbformat_minor": 5
}
